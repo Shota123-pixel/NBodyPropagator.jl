{
 "cells": [
  {
   "cell_type": "markdown",
   "metadata": {},
   "source": [
    "---\n",
    "title: \"Example Notebooks of SPICE Toolkit\" \\\n",
    "author: \"Naoya Ozaki\" \\\n",
    "date: \"26 November 2022\" \\\n",
    "output: \"spice_example\"\n",
    "\n",
    "---"
   ]
  },
  {
   "cell_type": "code",
   "execution_count": 2,
   "metadata": {},
   "outputs": [],
   "source": [
    "using SPICE\n",
    "using NBodyPropagator"
   ]
  },
  {
   "cell_type": "code",
   "execution_count": null,
   "metadata": {},
   "outputs": [],
   "source": []
  }
 ],
 "metadata": {
  "kernelspec": {
   "display_name": "Julia 1.7.2",
   "language": "julia",
   "name": "julia-1.7"
  },
  "language_info": {
   "file_extension": ".jl",
   "mimetype": "application/julia",
   "name": "julia",
   "version": "1.7.2"
  },
  "orig_nbformat": 4,
  "vscode": {
   "interpreter": {
    "hash": "1742bffdcf03e81d2831cc3776b8e643b628a0dbd2c650e1f7335b396b82b241"
   }
  }
 },
 "nbformat": 4,
 "nbformat_minor": 2
}
