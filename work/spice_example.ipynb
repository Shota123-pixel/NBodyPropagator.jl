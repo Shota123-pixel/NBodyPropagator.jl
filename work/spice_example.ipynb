{
 "cells": [
  {
   "cell_type": "markdown",
   "metadata": {},
   "source": [
    "---\n",
    "title: \"Example Notebooks of SPICE Toolkit\" \\\n",
    "author: \"Naoya Ozaki\" \\\n",
    "date: \"26 November 2022\" \\\n",
    "output: \"spice_example\"\n",
    "\n",
    "---"
   ]
  },
  {
   "cell_type": "markdown",
   "metadata": {},
   "source": [
    "## 1. SPICE Setup\n",
    "Import SPICE library and download generic kernels.\n",
    "This process takes long time because of downloading the large file (~120MB)."
   ]
  },
  {
   "cell_type": "code",
   "execution_count": 8,
   "metadata": {},
   "outputs": [
    {
     "name": "stdout",
     "output_type": "stream",
     "text": [
      "/Users/naoya/Git/NBodyPropagator.jl/work/../data/lib/lsk/naif0012.tls"
     ]
    }
   ],
   "source": [
    "using Downloads\n",
    "\n",
    "current_directory = dirname(abspath(@__FILE__))\n",
    "spice_directory = current_directory * \"/../data/lib\"\n",
    "\n",
    "# Find naif0012.tls in the directory\n",
    "is_downloaded = false\n",
    "genker_naif0012 = \"\"\n",
    "for (root, dirs, files) in walkdir(spice_directory)\n",
    "    is_downloaded = any(occursin.(\"naif0012.tls\", files))\n",
    "    if is_downloaded\n",
    "        genker_naif0012 = root * \"/naif0012.tls\"\n",
    "        break\n",
    "    end\n",
    "end\n",
    "if !is_downloaded\n",
    "    mkdir(spice_directory*\"/lsk\")\n",
    "    genker_naif0012 = Downloads.download(\"https://naif.jpl.nasa.gov/pub/naif/generic_kernels/lsk/naif0012.tls\", spice_directory*\"/lsk/naif0012.tls\")\n",
    "end\n",
    "\n",
    "# Find gm_de431.tpc in the directory\n",
    "is_downloaded = false\n",
    "genker_gm_de431 = \"\"\n",
    "for (root, dirs, files) in walkdir(spice_directory)\n",
    "    is_downloaded = any(occursin.(\"gm_de431.tpc\", files))\n",
    "    if is_downloaded\n",
    "        genker_gm_de431 = root * \"/gm_de431.tpc\"\n",
    "        break\n",
    "    end\n",
    "end\n",
    "if !is_downloaded\n",
    "    mkdir(spice_directory * \"/pck\")\n",
    "    genker_gm_de431 = Downloads.download(\"https://naif.jpl.nasa.gov/pub/naif/generic_kernels/pck/gm_de431.tpc\", spice_directory * \"/pck/gm_de431.tpc\")\n",
    "end\n",
    "\n",
    "# Find de440.bsp in the directory\n",
    "is_downloaded = false\n",
    "genker_de440 = \"\"\n",
    "for (root, dirs, files) in walkdir(spice_directory)\n",
    "    is_downloaded = any(occursin.(\"de440.bsp\", files))\n",
    "    if is_downloaded\n",
    "        genker_de440 = root * \"/de440.bsp\"\n",
    "        break\n",
    "    end\n",
    "end\n",
    "if !is_downloaded\n",
    "    mkdir(spice_directory * \"/spk\")\n",
    "    mkdir(spice_directory * \"/spk/planets\")\n",
    "    genker_de440 = Downloads.download(\"https://naif.jpl.nasa.gov/pub/naif/generic_kernels/spk/planets/de440.bsp\", spice_directory * \"/spk/planets/de440.bsp\")\n",
    "end\n"
   ]
  },
  {
   "cell_type": "code",
   "execution_count": 2,
   "metadata": {},
   "outputs": [
    {
     "ename": "UndefVarError",
     "evalue": "UndefVarError: genker_naif0012 not defined",
     "output_type": "error",
     "traceback": [
      "UndefVarError: genker_naif0012 not defined\n",
      "\n",
      "Stacktrace:\n",
      " [1] top-level scope\n",
      "   @ ~/Git/NBodyPropagator.jl/work/spice_example.ipynb:3"
     ]
    }
   ],
   "source": [
    "import SPICE\n",
    "# Load generic kernels\n",
    "SPICE.furnsh(genker_naif0012) # Leap seconds kernel\n",
    "SPICE.furnsh(genker_gm_de431) # Gravity Constant\n",
    "SPICE.furnsh(genker_de440) # Planetary ephemeris kernel"
   ]
  },
  {
   "cell_type": "code",
   "execution_count": 3,
   "metadata": {},
   "outputs": [
    {
     "ename": "SPICE.SpiceError",
     "evalue": "The variable that points to the leapseconds (DELTET/DELTA_AT) could not be located in the kernel pool.  It is likely that the leapseconds kernel has not been loaded.",
     "output_type": "error",
     "traceback": [
      "The variable that points to the leapseconds (DELTET/DELTA_AT) could not be located in the kernel pool.  It is likely that the leapseconds kernel has not been loaded.\n",
      "\n",
      "Stacktrace:\n",
      " [1] handleerror()\n",
      "   @ SPICE ~/.julia/packages/SPICE/xNciS/src/SPICE.jl:30\n",
      " [2] str2et(str::String)\n",
      "   @ SPICE ~/.julia/packages/SPICE/xNciS/src/s.jl:2411\n",
      " [3] top-level scope\n",
      "   @ ~/Git/NBodyPropagator.jl/work/spice_example.ipynb:2"
     ]
    }
   ],
   "source": [
    "# Parameter Setting\n",
    "et0 = SPICE.str2et(\"2021/04/06 13:52:32 UTC\") # Initial Epoch\n",
    "etf = SPICE.str2et(\"2022/04/06 13:52:32 UTC\") # Final Epoch\n",
    "num_grid = 10000 # Number of Grid\n",
    "\n",
    "# Pre-calculation\n",
    "et_all = LinRange(et0,etf,num_grid)\n",
    "x_moon = zeros(num_grid, 6)\n",
    "\n",
    "# Iteration\n",
    "for i = 1:num_grid\n",
    "    x_moon[i,:], _ = SPICE.spkez(301, et_all[i], \"ECLIPJ2000\", \"NONE\", 399)\n",
    "end\n",
    "\n",
    "x_moon"
   ]
  },
  {
   "cell_type": "code",
   "execution_count": 4,
   "metadata": {},
   "outputs": [
    {
     "ename": "UndefVarError",
     "evalue": "UndefVarError: x_moon not defined",
     "output_type": "error",
     "traceback": [
      "UndefVarError: x_moon not defined\n",
      "\n",
      "Stacktrace:\n",
      " [1] top-level scope\n",
      "   @ ~/Git/NBodyPropagator.jl/work/spice_example.ipynb:2"
     ]
    }
   ],
   "source": [
    "using Plots\n",
    "plot(x_moon[:, 1], x_moon[:, 2], x_moon[:, 3], xlim=[-5e5, 5e5], ylim=[-5e5, 5e5], zlim=[-5e5, 5e5], aspect_ratio=:equal)"
   ]
  }
 ],
 "metadata": {
  "kernelspec": {
   "display_name": "Julia 1.8.3",
   "language": "julia",
   "name": "julia-1.8"
  },
  "language_info": {
   "file_extension": ".jl",
   "mimetype": "application/julia",
   "name": "julia",
   "version": "1.8.3"
  },
  "orig_nbformat": 4,
  "vscode": {
   "interpreter": {
    "hash": "1742bffdcf03e81d2831cc3776b8e643b628a0dbd2c650e1f7335b396b82b241"
   }
  }
 },
 "nbformat": 4,
 "nbformat_minor": 2
}
