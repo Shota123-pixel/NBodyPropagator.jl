{
 "cells": [
  {
   "cell_type": "markdown",
   "metadata": {},
   "source": [
    "---\n",
    "title: \"Example Notebooks of SPICE Toolkit\" \\\n",
    "author: \"Naoya Ozaki\" \\\n",
    "date: \"26 November 2022\" \\\n",
    "output: \"spice_example\"\n",
    "\n",
    "---"
   ]
  },
  {
   "cell_type": "markdown",
   "metadata": {},
   "source": [
    "## Plot Moon's Orbit\n",
    "Import SPICE library (download generic kernels if needed) and obtain the position and velocity of the moon.\n",
    "The download of the generic kernels may take long time because of downloading the large file (~120MB)."
   ]
  },
  {
   "cell_type": "code",
   "execution_count": 1,
   "metadata": {},
   "outputs": [
    {
     "data": {
      "text/plain": [
       "get_path_of_genker (generic function with 1 method)"
      ]
     },
     "metadata": {},
     "output_type": "display_data"
    }
   ],
   "source": [
    "# Import module\n",
    "using Downloads\n",
    "\n",
    "function get_path_of_genker(kernel_name::String)::String\n",
    "    \"\"\"Get the path of specific generic kernels.\n",
    "\n",
    "    Args:\n",
    "        kernel_name (String): Name of the generic kernels\n",
    "\n",
    "    Returns:\n",
    "        String: Full path of the generic kernels\n",
    "\n",
    "    Note:\n",
    "        The downloaded generic kernels are supposed to \n",
    "        be stored in <current_directory> * \"/../data/lib\"\n",
    "    \"\"\"\n",
    "    # Get the spice directory\n",
    "    current_directory = dirname(abspath(@__FILE__))\n",
    "    spice_directory = current_directory * \"/../data/lib\"\n",
    "\n",
    "    # Split the input string\n",
    "    kernel_dir = split(kernel_name, \"/\")\n",
    "\n",
    "    # Find naif0012.tls in the directory\n",
    "    is_downloaded = false\n",
    "    genker_path = \"\"\n",
    "    for (root, dirs, files) in walkdir(spice_directory)\n",
    "        is_downloaded = any(occursin.(kernel_dir[end], files))\n",
    "        if is_downloaded\n",
    "            genker_path = root * \"/\" * kernel_dir[end]\n",
    "            break\n",
    "        end\n",
    "    end\n",
    "    if !is_downloaded\n",
    "        mkpath(dirname(spice_directory * \"/\" * kernel_name))\n",
    "        genker_path = Downloads.download(\"https://naif.jpl.nasa.gov/pub/naif/generic_kernels/\" * kernel_name, spice_directory * \"/\" * kernel_name)\n",
    "    end\n",
    "\n",
    "    return genker_path\n",
    "end"
   ]
  },
  {
   "cell_type": "code",
   "execution_count": 2,
   "metadata": {},
   "outputs": [],
   "source": [
    "import SPICE\n",
    "# Load generic kernels\n",
    "SPICE.furnsh(get_path_of_genker(\"lsk/naif0012.tls\")) # Leap seconds kernel\n",
    "SPICE.furnsh(get_path_of_genker(\"pck/gm_de431.tpc\")) # Gravity Constant\n",
    "SPICE.furnsh(get_path_of_genker(\"spk/planets/de440.bsp\")) # Planetary ephemeris kernel"
   ]
  },
  {
   "cell_type": "code",
   "execution_count": 3,
   "metadata": {},
   "outputs": [
    {
     "data": {
      "text/plain": [
       "10000×6 Matrix{Float64}:\n",
       "      2.64279e5       -2.80462e5  -30110.1   0.768808  0.660662  -0.0473644\n",
       "      2.66694e5       -2.78368e5  -30258.5   0.76299   0.666869  -0.0466959\n",
       "      2.69091e5       -2.76255e5  -30404.7   0.757127  0.673023  -0.0460249\n",
       "      2.7147e5   -274123.0        -30548.8   0.75122   0.679122  -0.0453515\n",
       " 273830.0             -2.71972e5  -30690.7   0.745268  0.685168  -0.0446758\n",
       "      2.76171e5       -2.69801e5  -30830.6   0.739273  0.691158  -0.0439978\n",
       "      2.78493e5       -2.67612e5  -30968.3   0.733235  0.697094  -0.0433176\n",
       "      2.80796e5  -265404.0        -31103.8   0.727154  0.702975  -0.0426351\n",
       "      2.8308e5        -2.63178e5  -31237.2   0.721031  0.708801  -0.0419505\n",
       "      2.85344e5       -2.60933e5  -31368.4   0.714866  0.714571  -0.0412638\n",
       "      ⋮                                                           ⋮\n",
       "      1.13895e5        3.86411e5   13089.7  -0.924245  0.29097    0.0829888\n",
       "      1.10977e5        3.87316e5   13351.0  -0.926366  0.283427   0.0827303\n",
       "      1.08052e5        3.88198e5   13611.5  -0.92843   0.27587    0.0824668\n",
       "      1.0512e5         3.89057e5   13871.2  -0.930437  0.268299   0.0821983\n",
       "      1.02183e5        3.89891e5   14130.0  -0.932386  0.260715   0.0819249\n",
       "  99239.2              3.90701e5   14388.0  -0.934278  0.253118   0.0816465\n",
       "  96289.6              3.91487e5   14645.0  -0.936112  0.245508   0.0813633\n",
       "  93334.4              3.9225e5    14901.2  -0.937889  0.237886   0.0810751\n",
       "  90373.6              3.92988e5   15156.4  -0.939608  0.230253   0.0807821"
      ]
     },
     "metadata": {},
     "output_type": "display_data"
    }
   ],
   "source": [
    "# Parameter Setting\n",
    "et0 = SPICE.str2et(\"2021/04/06 13:52:32 UTC\") # Initial Epoch\n",
    "etf = SPICE.str2et(\"2022/04/06 13:52:32 UTC\") # Final Epoch\n",
    "num_grid = 10000 # Number of Grid\n",
    "\n",
    "# Pre-calculation\n",
    "et_all = LinRange(et0,etf,num_grid)\n",
    "x_moon = zeros(num_grid, 6)\n",
    "\n",
    "# Iteration\n",
    "for i = 1:num_grid\n",
    "    x_moon[i,:], _ = SPICE.spkez(301, et_all[i], \"ECLIPJ2000\", \"NONE\", 399)\n",
    "end"
   ]
  },
  {
   "cell_type": "code",
   "execution_count": 4,
   "metadata": {},
   "outputs": [],
   "source": [
    "using Plots\n",
    "plot(x_moon[:, 1], x_moon[:, 2], x_moon[:, 3], xlim=[-5e5, 5e5], ylim=[-5e5, 5e5], zlim=[-5e5, 5e5], aspect_ratio=:equal)"
   ]
  }
 ],
 "metadata": {
  "kernelspec": {
   "display_name": "Julia 1.8.3",
   "language": "julia",
   "name": "julia-1.8"
  },
  "language_info": {
   "file_extension": ".jl",
   "mimetype": "application/julia",
   "name": "julia",
   "version": "1.8.3"
  },
  "orig_nbformat": 4,
  "vscode": {
   "interpreter": {
    "hash": "1742bffdcf03e81d2831cc3776b8e643b628a0dbd2c650e1f7335b396b82b241"
   }
  }
 },
 "nbformat": 4,
 "nbformat_minor": 2
}
