{
 "cells": [
  {
   "cell_type": "markdown",
   "metadata": {},
   "source": [
    "---\n",
    "title: \"Example Notebooks of SPICE Toolkit\" \\\n",
    "author: \"Naoya Ozaki\" \\\n",
    "date: \"26 November 2022\" \\\n",
    "output: \"spice_example\"\n",
    "\n",
    "---"
   ]
  },
  {
   "cell_type": "markdown",
   "metadata": {},
   "source": [
    "## Plot Moon's Orbit\n",
    "Import SPICE library (download generic kernels if needed) and obtain the position and velocity of the moon.\n",
    "The download of the generic kernels may take long time because of downloading the large file (~120MB)."
   ]
  },
  {
   "cell_type": "code",
   "execution_count": null,
   "metadata": {},
   "outputs": [],
   "source": [
    "import SPICE\n",
    "using NBodyProblem\n",
    "# Load generic kernels\n",
    "SPICE.furnsh(get_path_of_genker(\"lsk/naif0012.tls\")) # Leap seconds kernel\n",
    "SPICE.furnsh(get_path_of_genker(\"pck/gm_de431.tpc\")) # Gravity Constant\n",
    "SPICE.furnsh(get_path_of_genker(\"spk/planets/de440.bsp\")) # Planetary ephemeris kernel"
   ]
  },
  {
   "cell_type": "code",
   "execution_count": null,
   "metadata": {},
   "outputs": [],
   "source": [
    "# Parameter Setting\n",
    "et0 = SPICE.str2et(\"2021/04/06 13:52:32 UTC\") # Initial Epoch\n",
    "etf = SPICE.str2et(\"2022/04/06 13:52:32 UTC\") # Final Epoch\n",
    "num_grid = 10000 # Number of Grid\n",
    "\n",
    "# Pre-calculation\n",
    "et_all = LinRange(et0,etf,num_grid)\n",
    "x_moon = zeros(num_grid, 6)\n",
    "\n",
    "# Iteration\n",
    "for i = 1:num_grid\n",
    "    x_moon[i,:], _ = SPICE.spkez(301, et_all[i], \"ECLIPJ2000\", \"NONE\", 399)\n",
    "end"
   ]
  },
  {
   "cell_type": "code",
   "execution_count": null,
   "metadata": {},
   "outputs": [],
   "source": [
    "using Plots\n",
    "plot(x_moon[:, 1], x_moon[:, 2], x_moon[:, 3], xlim=[-5e5, 5e5], ylim=[-5e5, 5e5], zlim=[-5e5, 5e5], aspect_ratio=:equal)"
   ]
  }
 ],
 "metadata": {
  "kernelspec": {
   "display_name": "Julia 1.8.3",
   "language": "julia",
   "name": "julia-1.8"
  },
  "language_info": {
   "file_extension": ".jl",
   "mimetype": "application/julia",
   "name": "julia",
   "version": "1.8.3"
  },
  "orig_nbformat": 4,
  "vscode": {
   "interpreter": {
    "hash": "1742bffdcf03e81d2831cc3776b8e643b628a0dbd2c650e1f7335b396b82b241"
   }
  }
 },
 "nbformat": 4,
 "nbformat_minor": 2
}
