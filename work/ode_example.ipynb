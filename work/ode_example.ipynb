{
 "cells": [
  {
   "cell_type": "markdown",
   "metadata": {},
   "source": [
    "---\n",
    "title: \"Example Notebooks of DifferentialEquation.jl\" \\\n",
    "author: \"Naoya Ozaki\" \\\n",
    "date: \"03 December 2022\" \\\n",
    "output: \"ode_example\"\n",
    "\n",
    "---"
   ]
  },
  {
   "cell_type": "code",
   "execution_count": null,
   "metadata": {},
   "outputs": [],
   "source": [
    "using ParameterizedFunctions, DifferentialEquations\n",
    "using Plots\n",
    "\n",
    "# 常微分方程式の定義\n",
    "g = @ode_def Lorenz begin\n",
    "    dx = p * (y - x)\n",
    "    dy = x * (r - z) - y\n",
    "    dz = x * y - b * z\n",
    "end p r b\n",
    "\n",
    "# 問題定義\n",
    "u0 = [0.0; 1.01; 0.0]\n",
    "tspan = (0.0, 100.0)\n",
    "p = [10.0, 25.0, 7 / 3]\n",
    "prob = ODEProblem(g, u0, tspan, p)\n",
    "\n",
    "# 計算\n",
    "sol = solve(prob, Tsit5(), reltol=1e-8, abstol=1e-8)\n",
    "\n",
    "plot(sol, vars=(1, 2, 3), title=\"Lorenz Attractor\",\n",
    "        xlabel=\"x\", ylabel=\"y\", zlabel=\"z\", label=\"\")"
   ]
  },
  {
   "cell_type": "code",
   "execution_count": null,
   "metadata": {},
   "outputs": [],
   "source": [
    "using ParameterizedFunctions, DifferentialEquations\n",
    "using Plots\n",
    "\n",
    "# 常微分方程式の定義\n",
    "function lorenz!(dx,x,p,t)\n",
    "    # dx/dt\n",
    "    dx[1] = 10.0 * (x[2] - x[1])\n",
    "    dx[2] = x[1] * (25.0 - x[3]) - x[2]\n",
    "    dx[3] = x[1] * x[2] - (7 / 3) * x[3]\n",
    "end\n",
    "\n",
    "# 問題定義\n",
    "x0 = [0.0; 1.01; 0.0]\n",
    "tspan = (0.0, 100.0)\n",
    "prob = ODEProblem(lorenz!, x0, tspan)\n",
    "\n",
    "# 計算\n",
    "sol = solve(prob, Tsit5(), reltol=1e-8, abstol=1e-8)\n",
    "\n",
    "plot(sol, vars=(1, 2, 3), title=\"Lorenz Attractor\",\n",
    "    xlabel=\"x\", ylabel=\"y\", zlabel=\"z\", label=\"\")"
   ]
  },
  {
   "cell_type": "code",
   "execution_count": null,
   "metadata": {},
   "outputs": [],
   "source": []
  }
 ],
 "metadata": {
  "kernelspec": {
   "display_name": "Julia 1.8.3",
   "language": "julia",
   "name": "julia-1.8"
  },
  "language_info": {
   "file_extension": ".jl",
   "mimetype": "application/julia",
   "name": "julia",
   "version": "1.8.3"
  },
  "orig_nbformat": 4,
  "vscode": {
   "interpreter": {
    "hash": "1742bffdcf03e81d2831cc3776b8e643b628a0dbd2c650e1f7335b396b82b241"
   }
  }
 },
 "nbformat": 4,
 "nbformat_minor": 2
}
