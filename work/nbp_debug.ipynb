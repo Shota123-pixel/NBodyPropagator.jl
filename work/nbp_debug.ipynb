{
 "cells": [
  {
   "attachments": {},
   "cell_type": "markdown",
   "metadata": {},
   "source": [
    "---\n",
    "title: \"Debug Notebook for NBodyProblem.jl\" \\\n",
    "author: \"Naoya Ozaki\" \\\n",
    "date: \"31 January 2023\" \\\n",
    "output: \"nbp_debug\"\n",
    "\n",
    "---"
   ]
  },
  {
   "cell_type": "code",
   "execution_count": null,
   "metadata": {},
   "outputs": [],
   "source": [
    "struct TestA\n",
    "    a ::Float64\n",
    "    b ::Array{Float64,1}\n",
    "\n",
    "    TestA(a=0.2, b=[1.1, 2.2]) = new(a,b)\n",
    "end\n",
    "\n",
    "testA = TestA()\n",
    "println(testA)\n",
    "\n",
    "testA = TestA(0.4)\n",
    "println(testA)\n",
    "\n",
    "testA = TestA(0.4, [3.3, 4.4])\n",
    "println(testA)"
   ]
  },
  {
   "cell_type": "code",
   "execution_count": null,
   "metadata": {},
   "outputs": [],
   "source": [
    "mutable struct DynSysOptions\n",
    "    id_center ::Int     # ID of Center Body\n",
    "    ref_frame ::String  # Name of Reference Frame\n",
    "    lsf       ::Float64 # Scale Factor of Length\n",
    "    tsf       ::Float64 # Scale Factor of Time\n",
    "    msf       ::Float64 # Scale Factor of Mass\n",
    "    need_stm  ::Bool    # Calculate State Transition Matrix (true); Does not calculate STM (false)\n",
    "    need_transitional_state :: Bool # Calculate all state history (true); Calculate only final state (false)\n",
    "    dynamics_model ::String  # \"nbp\" = N-body problem: Position (x,y,z) + Velocity (vx, vy, vz)\n",
    "\n",
    "    # Default Value\n",
    "    DynSysOptions() = new(\n",
    "        0,             # id_center\n",
    "        \"ECLIPJ2000\",  # ref_frame\n",
    "        1.0e6,         # lsf\n",
    "        1.0e6,         # tsf\n",
    "        1.0,           # msf\n",
    "        false,         # need_stm\n",
    "        true,          # need_transitional_state\n",
    "        \"NBodyProblem\" # dynamics_model\n",
    "        )\n",
    "end\n",
    "\n",
    "options = DynSysOptions()"
   ]
  },
  {
   "cell_type": "code",
   "execution_count": 1,
   "metadata": {},
   "outputs": [],
   "source": [
    "struct NBodyDynSys{K}\n",
    "    # Fields\n",
    "    x0::Array{Float64,1}\n",
    "    tspan::Tuple{Float64, Float64}\n",
    "    list_bodies::Array{Int,1}\n",
    "    kwargs::K\n",
    "\n",
    "    # Constructor of the Struct\n",
    "    function NBodyDynSys(x0, tspan, list_bodies; kwargs...)\n",
    "\n",
    "        # Merge keyword argments\n",
    "        defaults = (; id_center=0, #= SOLAR SYSTEM BARYCENTER =#\n",
    "                      ref_frame=\"ECLIPJ2000\", \n",
    "                      lsf=1.0e6, #= km =#\n",
    "                      tsf=1.0e6, #= s =#\n",
    "                      msf=1.0, #= kg =#\n",
    "                      need_stm=false,\n",
    "                      need_transitional_state=false\n",
    "                    )\n",
    "        kwargs_ = merge(defaults, kwargs)\n",
    "\n",
    "        # Substitute the value to the fields\n",
    "        new{typeof(kwargs_)}(x0, tspan, list_bodies, kwargs_)\n",
    "    end\n",
    "end"
   ]
  },
  {
   "cell_type": "code",
   "execution_count": 12,
   "metadata": {},
   "outputs": [
    {
     "data": {
      "text/plain": [
       "NBodyProblem{NamedTuple{(:id_center, :ref_frame, :lsf, :tsf, :msf, :need_stm, :need_transitional_state), Tuple{Int64, String, Float64, Float64, Float64, Bool, Bool}}}([1.0e7, 1.0e8, 1.0e6, 15.0, 20.0, 3.0], (0.0, 2.592e6), [10, 399, 301], (id_center = 399, ref_frame = \"ECLIPJ2000\", lsf = 1.0e6, tsf = 1.0e6, msf = 1.0, need_stm = true, need_transitional_state = false))"
      ]
     },
     "metadata": {},
     "output_type": "display_data"
    }
   ],
   "source": [
    "et0 = 0.0\n",
    "x0 = [1e7, 1e8, 1e6, 15, 20, 3]\n",
    "tspan = (et0, et0 + 30 * 86400)\n",
    "\n",
    "nbp = NBodyDynSys(x0, tspan, [10, 399, 301]; id_center=399, need_stm=true)\n",
    "\n",
    "nbp"
   ]
  },
  {
   "cell_type": "code",
   "execution_count": null,
   "metadata": {},
   "outputs": [],
   "source": []
  }
 ],
 "metadata": {
  "kernelspec": {
   "display_name": "Julia 1.8.3",
   "language": "julia",
   "name": "julia-1.8"
  },
  "language_info": {
   "file_extension": ".jl",
   "mimetype": "application/julia",
   "name": "julia",
   "version": "1.8.3"
  },
  "orig_nbformat": 4,
  "vscode": {
   "interpreter": {
    "hash": "1742bffdcf03e81d2831cc3776b8e643b628a0dbd2c650e1f7335b396b82b241"
   }
  }
 },
 "nbformat": 4,
 "nbformat_minor": 2
}
