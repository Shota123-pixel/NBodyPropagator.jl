{
 "cells": [
  {
   "attachments": {},
   "cell_type": "markdown",
   "metadata": {},
   "source": [
    "---\n",
    "title: \"Debug Notebook for NBodyPropagatorNBodyPropagator.jl\" \\\n",
    "author: \"Naoya Ozaki\" \\\n",
    "date: \"31 January 2023\" \\\n",
    "output: \"nbp_debug\"\n",
    "\n",
    "---"
   ]
  },
  {
   "cell_type": "code",
   "execution_count": null,
   "metadata": {},
   "outputs": [],
   "source": [
    "struct TestA\n",
    "    a ::Float64\n",
    "    b ::Array{Float64,1}\n",
    "\n",
    "    TestA(a=0.2, b=[1.1, 2.2]) = new(a,b)\n",
    "end\n",
    "\n",
    "testA = TestA()\n",
    "println(testA)\n",
    "\n",
    "testA = TestA(0.4)\n",
    "println(testA)\n",
    "\n",
    "testA = TestA(0.4, [3.3, 4.4])\n",
    "println(testA)"
   ]
  },
  {
   "cell_type": "code",
   "execution_count": 1,
   "metadata": {},
   "outputs": [
    {
     "data": {
      "text/plain": [
       "6×19 Matrix{Float64}:\n",
       "  1.0e7   1.02952e7   1.11598e7  …   3.95116e7   4.18889e7   4.24735e7\n",
       "  1.0e8   1.00391e8   1.01513e8      1.18469e8   1.17739e8   1.17478e8\n",
       "  1.0e6   1.05906e6   1.23236e6      7.14326e6   7.66372e6   7.79266e6\n",
       " 15.0    14.974      14.8953        10.2737      9.61547     9.44038\n",
       " 20.0    19.7437     19.0025        -2.09743    -4.00754    -4.49572\n",
       "  3.0     2.99737     2.98896    …   2.23702     2.11728     2.0852"
      ]
     },
     "metadata": {},
     "output_type": "display_data"
    }
   ],
   "source": [
    "using NBodyPropagator\n",
    "\n",
    "et0 = 0.0\n",
    "x0 = [1e7, 1e8, 1e6, 15, 20, 3]\n",
    "tspan = (et0, et0 + 30 * 86400)\n",
    "\n",
    "nbp = NBodyProblem(x0, tspan, [10, 399, 301]; id_center=10, need_stm=false)\n",
    "sol = propagate(nbp)"
   ]
  },
  {
   "cell_type": "code",
   "execution_count": 2,
   "metadata": {},
   "outputs": [],
   "source": []
  }
 ],
 "metadata": {
  "kernelspec": {
   "display_name": "Julia 1.8.3",
   "language": "julia",
   "name": "julia-1.8"
  },
  "language_info": {
   "file_extension": ".jl",
   "mimetype": "application/julia",
   "name": "julia",
   "version": "1.8.3"
  },
  "orig_nbformat": 4,
  "vscode": {
   "interpreter": {
    "hash": "1742bffdcf03e81d2831cc3776b8e643b628a0dbd2c650e1f7335b396b82b241"
   }
  }
 },
 "nbformat": 4,
 "nbformat_minor": 2
}
