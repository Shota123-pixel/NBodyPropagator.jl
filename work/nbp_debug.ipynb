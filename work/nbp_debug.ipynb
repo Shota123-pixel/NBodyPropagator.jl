{
 "cells": [
  {
   "attachments": {},
   "cell_type": "markdown",
   "metadata": {},
   "source": [
    "---\n",
    "title: \"Debug Notebook for NBodyPropagatorNBodyPropagator.jl\" \\\n",
    "author: \"Naoya Ozaki\" \\\n",
    "date: \"31 January 2023\" \\\n",
    "output: \"nbp_debug\"\n",
    "\n",
    "---"
   ]
  },
  {
   "cell_type": "code",
   "execution_count": null,
   "metadata": {},
   "outputs": [],
   "source": [
    "struct TestA\n",
    "    a ::Float64\n",
    "    b ::Array{Float64,1}\n",
    "\n",
    "    TestA(a=0.2, b=[1.1, 2.2]) = new(a,b)\n",
    "end\n",
    "\n",
    "testA = TestA()\n",
    "println(testA)\n",
    "\n",
    "testA = TestA(0.4)\n",
    "println(testA)\n",
    "\n",
    "testA = TestA(0.4, [3.3, 4.4])\n",
    "println(testA)"
   ]
  },
  {
   "cell_type": "code",
   "execution_count": null,
   "metadata": {},
   "outputs": [],
   "source": [
    "using NBodyPropagator\n",
    "\n",
    "et0 = 0.0\n",
    "x0 = [1e7, 1e8, 1e6, 15, 20, 3]\n",
    "tspan = (et0, et0 + 30 * 86400)\n",
    "\n",
    "nbp = NBodyProblem(x0, tspan, [10, 399, 301]; id_center=10, need_stm=true)\n",
    "state_all, stm_all, dxdt0_all = propagate(nbp)"
   ]
  },
  {
   "cell_type": "code",
   "execution_count": 8,
   "metadata": {},
   "outputs": [
    {
     "data": {
      "text/plain": [
       "(0.372251125, \"sec\")"
      ]
     },
     "metadata": {},
     "output_type": "display_data"
    }
   ],
   "source": [
    "using BenchmarkTools\n",
    "import SPICE\n",
    "using NBodyPropagator\n",
    "\n",
    "# Initialization\n",
    "init_spice_kernels()\n",
    "\n",
    "# Parameter Setting\n",
    "list_bodies = [399, 301, 10, 499, 599]\n",
    "\n",
    "# Initial Condition\n",
    "et0 = SPICE.str2et(\"2016 NOV 01 00:00:00 UTC\")\n",
    "x0 = [42000.0, 0.0, 0.0, 0.0, sqrt(398600.4418 / 42000.0), 0.0]\n",
    "tspan = (et0, et0 + 30.0 * 86400.0)\n",
    "\n",
    "# Integrate\n",
    "runtime = @elapsed begin\n",
    "    nbp = NBodyProblem(x0, tspan, list_bodies, id_center=399, need_stm=true, lsf=1.0, tsf=1.0, msf=1.0)\n",
    "    state_all, stm_all, dxdt0_all = propagate(nbp)\n",
    "end\n",
    "\n",
    "runtime, \"sec\""
   ]
  }
 ],
 "metadata": {
  "kernelspec": {
   "display_name": "Julia 1.8.3",
   "language": "julia",
   "name": "julia-1.8"
  },
  "language_info": {
   "file_extension": ".jl",
   "mimetype": "application/julia",
   "name": "julia",
   "version": "1.8.3"
  },
  "orig_nbformat": 4,
  "vscode": {
   "interpreter": {
    "hash": "1742bffdcf03e81d2831cc3776b8e643b628a0dbd2c650e1f7335b396b82b241"
   }
  }
 },
 "nbformat": 4,
 "nbformat_minor": 2
}
