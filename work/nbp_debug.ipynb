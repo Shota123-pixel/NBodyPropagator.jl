{
 "cells": [
  {
   "attachments": {},
   "cell_type": "markdown",
   "metadata": {},
   "source": [
    "---\n",
    "title: \"Debug Notebook for NBodyPropagatorNBodyPropagator.jl\" \\\n",
    "author: \"Naoya Ozaki\" \\\n",
    "date: \"31 January 2023\" \\\n",
    "output: \"nbp_debug\"\n",
    "\n",
    "---"
   ]
  },
  {
   "cell_type": "code",
   "execution_count": 1,
   "metadata": {},
   "outputs": [
    {
     "name": "stdout",
     "output_type": "stream",
     "text": [
      "TestA(0.2, [1.1, 2.2])\n",
      "TestA(0.4, [1.1, 2.2])\n",
      "TestA(0.4, [3.3, 4.4])\n"
     ]
    }
   ],
   "source": [
    "struct TestA\n",
    "    a ::Float64\n",
    "    b ::Array{Float64,1}\n",
    "\n",
    "    TestA(a=0.2, b=[1.1, 2.2]) = new(a,b)\n",
    "end\n",
    "\n",
    "testA = TestA()\n",
    "println(testA)\n",
    "\n",
    "testA = TestA(0.4)\n",
    "println(testA)\n",
    "\n",
    "testA = TestA(0.4, [3.3, 4.4])\n",
    "println(testA)"
   ]
  },
  {
   "cell_type": "code",
   "execution_count": 5,
   "metadata": {},
   "outputs": [],
   "source": [
    "using NBodyPropagator\n",
    "\n",
    "struct NBodyProblem{K}\n",
    "    # Fields\n",
    "    x0::Array{Float64,1}\n",
    "    tspan::Tuple{Float64,Float64}\n",
    "    list_bodies::Array{Int,1}\n",
    "    ssd::SolarSystemDynamics\n",
    "    kwargs::K\n",
    "\n",
    "    # Constructor of the Struct\n",
    "    function NBodyProblem(x0, tspan, list_bodies; kwargs...)\n",
    "        # Define the Solar System Dynamics Constant\n",
    "        ssd_ = SolarSystemDynamics()\n",
    "\n",
    "        # Merge keyword argments\n",
    "        defaults = (; id_center=0, #= SOLAR SYSTEM BARYCENTER =#\n",
    "            ref_frame=\"ECLIPJ2000\",\n",
    "            lsf=1.0e6, #= km =#\n",
    "            tsf=1.0e6, #= s =#\n",
    "            msf=1.0, #= kg =#\n",
    "            need_stm=false,\n",
    "            need_transitional_state=false\n",
    "        )\n",
    "        kwargs_ = merge(defaults, kwargs)\n",
    "\n",
    "        # Substitute the value to the fields\n",
    "        new{typeof(kwargs_)}(x0, tspan, list_bodies, ssd_, kwargs_)\n",
    "    end\n",
    "end"
   ]
  },
  {
   "cell_type": "code",
   "execution_count": 12,
   "metadata": {},
   "outputs": [
    {
     "data": {
      "text/plain": [
       "1.327124400419393e11"
      ]
     },
     "metadata": {},
     "output_type": "display_data"
    }
   ],
   "source": [
    "et0 = 0.0\n",
    "x0 = [1e7, 1e8, 1e6, 15, 20, 3]\n",
    "tspan = (et0, et0 + 30 * 86400)\n",
    "\n",
    "nbp = NBodyProblem(x0, tspan, [10, 399, 301]; id_center=399, need_stm=true)\n",
    "\n",
    "nbp"
   ]
  },
  {
   "cell_type": "code",
   "execution_count": null,
   "metadata": {},
   "outputs": [],
   "source": []
  }
 ],
 "metadata": {
  "kernelspec": {
   "display_name": "Julia 1.8.3",
   "language": "julia",
   "name": "julia-1.8"
  },
  "language_info": {
   "file_extension": ".jl",
   "mimetype": "application/julia",
   "name": "julia",
   "version": "1.8.3"
  },
  "orig_nbformat": 4,
  "vscode": {
   "interpreter": {
    "hash": "1742bffdcf03e81d2831cc3776b8e643b628a0dbd2c650e1f7335b396b82b241"
   }
  }
 },
 "nbformat": 4,
 "nbformat_minor": 2
}
