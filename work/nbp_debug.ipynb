{
 "cells": [
  {
   "attachments": {},
   "cell_type": "markdown",
   "metadata": {},
   "source": [
    "---\n",
    "title: \"Debug Notebook for NBodyProblem.jl\" \\\n",
    "author: \"Naoya Ozaki\" \\\n",
    "date: \"31 January 2023\" \\\n",
    "output: \"nbp_debug\"\n",
    "\n",
    "---"
   ]
  },
  {
   "cell_type": "code",
   "execution_count": 6,
   "metadata": {},
   "outputs": [
    {
     "name": "stdout",
     "output_type": "stream",
     "text": [
      "TestA(0.2, [1.1, 2.2])\n",
      "TestA(0.4, [1.1, 2.2])\n",
      "TestA(0.4, [3.3, 4.4])\n"
     ]
    },
    {
     "ename": "MethodError",
     "evalue": "MethodError: no method matching TestA(; a=0.4, b=[3.3, 4.4])\nClosest candidates are:\n  TestA() at ~/Git/Astrodynamics/NBodyProblem.jl/work/nbp_debug.ipynb:5 got unsupported keyword arguments \"a\", \"b\"\n  TestA(!Matched::Any) at ~/Git/Astrodynamics/NBodyProblem.jl/work/nbp_debug.ipynb:5 got unsupported keyword arguments \"a\", \"b\"\n  TestA(!Matched::Any, !Matched::Any) at ~/Git/Astrodynamics/NBodyProblem.jl/work/nbp_debug.ipynb:5 got unsupported keyword arguments \"a\", \"b\"",
     "output_type": "error",
     "traceback": [
      "MethodError: no method matching TestA(; a=0.4, b=[3.3, 4.4])\n",
      "Closest candidates are:\n",
      "  TestA() at ~/Git/Astrodynamics/NBodyProblem.jl/work/nbp_debug.ipynb:5 got unsupported keyword arguments \"a\", \"b\"\n",
      "  TestA(!Matched::Any) at ~/Git/Astrodynamics/NBodyProblem.jl/work/nbp_debug.ipynb:5 got unsupported keyword arguments \"a\", \"b\"\n",
      "  TestA(!Matched::Any, !Matched::Any) at ~/Git/Astrodynamics/NBodyProblem.jl/work/nbp_debug.ipynb:5 got unsupported keyword arguments \"a\", \"b\"\n",
      "\n",
      "Stacktrace:\n",
      " [1] top-level scope\n",
      "   @ ~/Git/Astrodynamics/NBodyProblem.jl/work/nbp_debug.ipynb:17"
     ]
    }
   ],
   "source": [
    "struct TestA\n",
    "    a ::Float64\n",
    "    b ::Array{Float64,1}\n",
    "\n",
    "    TestA(a=0.2, b=[1.1, 2.2]) = new(a,b)\n",
    "end\n",
    "\n",
    "testA = TestA()\n",
    "println(testA)\n",
    "\n",
    "testA = TestA(0.4)\n",
    "println(testA)\n",
    "\n",
    "testA = TestA(0.4, [3.3, 4.4])\n",
    "println(testA)"
   ]
  },
  {
   "cell_type": "code",
   "execution_count": 14,
   "metadata": {},
   "outputs": [
    {
     "data": {
      "text/plain": [
       "DynSysOptions(0, \"ECLIPJ2000\", 1.0e6, 1.0e6, 1.0, false, true, \"NBodyProblem\")"
      ]
     },
     "metadata": {},
     "output_type": "display_data"
    }
   ],
   "source": [
    "mutable struct DynSysOptions\n",
    "    id_center ::Int     # ID of Center Body\n",
    "    ref_frame ::String  # Name of Reference Frame\n",
    "    lsf       ::Float64 # Scale Factor of Length\n",
    "    tsf       ::Float64 # Scale Factor of Time\n",
    "    msf       ::Float64 # Scale Factor of Mass\n",
    "    need_stm  ::Bool    # Calculate State Transition Matrix (true); Does not calculate STM (false)\n",
    "    need_transitional_state :: Bool # Calculate all state history (true); Calculate only final state (false)\n",
    "    dynamics_model ::String  # \"nbp\" = N-body problem: Position (x,y,z) + Velocity (vx, vy, vz)\n",
    "\n",
    "    # Default Value\n",
    "    DynSysOptions() = new(\n",
    "        #= id_center =# 0,\n",
    "        #= ref_frame =# \"ECLIPJ2000\",\n",
    "        #= lsf =# 1.0e6,\n",
    "        #= tsf =# 1.0e6,\n",
    "        #= msf =# 1.0,\n",
    "        #= need_stm =# false,\n",
    "        #= need_transitional_state =# true,\n",
    "        #= dynamics_model =# \"NBodyProblem\"\n",
    "        )\n",
    "end\n",
    "\n",
    "options = DynSysOptions()"
   ]
  },
  {
   "cell_type": "code",
   "execution_count": null,
   "metadata": {},
   "outputs": [],
   "source": []
  }
 ],
 "metadata": {
  "kernelspec": {
   "display_name": "Julia 1.8.3",
   "language": "julia",
   "name": "julia-1.8"
  },
  "language_info": {
   "file_extension": ".jl",
   "mimetype": "application/julia",
   "name": "julia",
   "version": "1.8.3"
  },
  "orig_nbformat": 4,
  "vscode": {
   "interpreter": {
    "hash": "1742bffdcf03e81d2831cc3776b8e643b628a0dbd2c650e1f7335b396b82b241"
   }
  }
 },
 "nbformat": 4,
 "nbformat_minor": 2
}
